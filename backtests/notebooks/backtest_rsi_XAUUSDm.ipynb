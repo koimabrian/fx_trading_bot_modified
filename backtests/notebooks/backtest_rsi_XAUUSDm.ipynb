{
 "cells": [
  {
   "cell_type": "markdown",
   "metadata": {},
   "source": [
    "# Step-Wise Backtesting of RSI Strategy on XAUUSDm\n",
    "\n",
    "This notebook performs a step-wise backtest of the RSI strategy on `XAUUSDm` data using Backtesting.py. We'll load the data, compute the RSI indicator, run the backtest, and visualize the results."
   ]
  },
  {
   "cell_type": "markdown",
   "metadata": {},
   "source": [
    "## Step 1: Import Libraries"
   ]
  },
  {
   "cell_type": "code",
   "execution_count": null,
   "metadata": {},
   "outputs": [
    {
     "ename": "",
     "evalue": "",
     "output_type": "error",
     "traceback": [
      "\u001b[1;31mRunning cells with 'Python' requires the ipykernel package.\n",
      "\u001b[1;31m<a href='command:jupyter.createPythonEnvAndSelectController'>Create a Python Environment</a> with the required packages.\n",
      "\u001b[1;31mOr install 'ipykernel' using the command: 'd:/brian/fx_trading_bot/.venv/Scripts/python.exe -m pip install ipykernel -U --user --force-reinstall'"
     ]
    }
   ],
   "source": [
    "import sys\n",
    "import os\n",
    "import pandas as pd\n",
    "from backtesting import Backtest, Strategy\n",
    "import ta\n",
    "import sqlite3\n",
    "import matplotlib.pyplot as plt\n",
    "\n",
    "# Add the project root directory to sys.path\n",
    "sys.path.append(os.path.abspath('../..'))"
   ]
  },
  {
   "cell_type": "markdown",
   "metadata": {},
   "source": [
    "## Step 2: Load Historical Data for XAUUSDm"
   ]
  },
  {
   "cell_type": "code",
   "execution_count": null,
   "metadata": {},
   "outputs": [],
   "source": [
    "# Connect to the database\n",
    "conn = sqlite3.connect('../../src/data/market_data.sqlite')\n",
    "\n",
    "# Fetch XAUUSDm data\n",
    "symbol = 'XAUUSDm'\n",
    "query = f\"SELECT * FROM market_data WHERE symbol='{symbol}' ORDER BY time\"\n",
    "data = pd.read_sql(query, conn)\n",
    "conn.close()\n",
    "\n",
    "print(f\"Fetched {len(data)} rows of market data for {symbol}\")\n",
    "data.head()"
   ]
  },
  {
   "cell_type": "markdown",
   "metadata": {},
   "source": [
    "## Step 3: Prepare Data for Backtesting.py"
   ]
  },
  {
   "cell_type": "code",
   "execution_count": null,
   "metadata": {},
   "outputs": [],
   "source": [
    "# Prepare data for Backtesting.py\n",
    "data['time'] = pd.to_datetime(data['time'])\n",
    "data.set_index('time', inplace=True)\n",
    "data = data.sort_index()\n",
    "\n",
    "# Rename columns to match Backtesting.py requirements\n",
    "data = data.rename(columns={\n",
    "    'open': 'Open',\n",
    "    'high': 'High',\n",
    "    'low': 'Low',\n",
    "    'close': 'Close',\n",
    "    'tick_volume': 'Volume'\n",
    "})\n",
    "\n",
    "# Ensure all required columns are present\n",
    "if 'Volume' not in data.columns:\n",
    "    data['Volume'] = 0\n",
    "\n",
    "data.head()"
   ]
  },
  {
   "cell_type": "markdown",
   "metadata": {},
   "source": [
    "## Step 4: Visualize the Data"
   ]
  },
  {
   "cell_type": "code",
   "execution_count": null,
   "metadata": {},
   "outputs": [],
   "source": [
    "# Plot the closing prices\n",
    "plt.figure(figsize=(12, 6))\n",
    "plt.plot(data.index, data['Close'], label='Close Price')\n",
    "plt.title(f'XAUUSDm Close Prices')\n",
    "plt.xlabel('Date')\n",
    "plt.ylabel('Price')\n",
    "plt.legend()\n",
    "plt.show()"
   ]
  },
  {
   "cell_type": "markdown",
   "metadata": {},
   "source": [
    "## Step 5: Define the RSI Strategy"
   ]
  },
  {
   "cell_type": "code",
   "execution_count": null,
   "metadata": {},
   "outputs": [],
   "source": [
    "from backtests.strategies.backtest_rsi_strategy import BacktestRSIStrategy"
   ]
  },
  {
   "cell_type": "markdown",
   "metadata": {},
   "source": [
    "## Step 6: Compute and Plot the RSI Indicator"
   ]
  },
  {
   "cell_type": "code",
   "execution_count": null,
   "metadata": {},
   "outputs": [],
   "source": [
    "# Compute RSI for visualization\n",
    "rsi = ta.momentum.RSIIndicator(data['Close'], window=14).rsi()\n",
    "\n",
    "# Plot RSI\n",
    "plt.figure(figsize=(12, 6))\n",
    "plt.plot(data.index, rsi, label='RSI', color='purple')\n",
    "plt.axhline(70, color='red', linestyle='--', label='Overbought (70)')\n",
    "plt.axhline(30, color='green', linestyle='--', label='Oversold (30)')\n",
    "plt.title('RSI Indicator for XAUUSDm')\n",
    "plt.xlabel('Date')\n",
    "plt.ylabel('RSI')\n",
    "plt.legend()\n",
    "plt.show()"
   ]
  },
  {
   "cell_type": "markdown",
   "metadata": {},
   "source": [
    "## Step 7: Run the Backtest"
   ]
  },
  {
   "cell_type": "code",
   "execution_count": null,
   "metadata": {},
   "outputs": [],
   "source": [
    "# Run the backtest\n",
    "bt = Backtest(data, BacktestRSIStrategy, cash=10000, commission=0.001)\n",
    "results = bt.run()\n",
    "\n",
    "# Display basic stats\n",
    "print(f\"Total Return: {results['Return [%]']:.2f}%\")\n",
    "print(f\"Number of Trades: {results['# Trades']}\")\n",
    "print(f\"Win Rate: {results['Win Rate [%]']:.2f}%\")"
   ]
  },
  {
   "cell_type": "markdown",
   "metadata": {},
   "source": [
    "## Step 8: Plot the Backtest Results"
   ]
  },
  {
   "cell_type": "code",
   "execution_count": null,
   "metadata": {},
   "outputs": [],
   "source": [
    "# Ensure the results directory exists\n",
    "results_dir = os.path.abspath('../results')\n",
    "os.makedirs(results_dir, exist_ok=True)\n",
    "\n",
    "# Plot the backtest results (interactive HTML plot)\n",
    "output_file = os.path.join(results_dir, 'equity_curve_rsi_XAUUSDm.html')\n",
    "bt.plot(filename=output_file, open_browser=False)\n",
    "print(f\"Equity curve saved to {output_file}\")"
   ]
  }
 ],
 "metadata": {
  "kernelspec": {
   "display_name": ".venv",
   "language": "python",
   "name": "python3"
  },
  "language_info": {
   "codemirror_mode": {
    "name": "ipython",
    "version": 3
   },
   "file_extension": ".py",
   "mimetype": "text/x-python",
   "name": "python",
   "nbconvert_exporter": "python",
   "pygments_lexer": "ipython3",
   "version": "3.10.11"
  }
 },
 "nbformat": 4,
 "nbformat_minor": 4
}
